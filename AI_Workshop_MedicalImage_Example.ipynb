{
  "nbformat": 4,
  "nbformat_minor": 0,
  "metadata": {
    "colab": {
      "name": "AI_Workshop_MedicalImage_Example.ipynb",
      "provenance": [],
      "authorship_tag": "ABX9TyNyZPI92qL0jNKgkg5pVyU9",
      "include_colab_link": true
    },
    "kernelspec": {
      "name": "python3",
      "display_name": "Python 3"
    },
    "language_info": {
      "name": "python"
    }
  },
  "cells": [
    {
      "cell_type": "markdown",
      "metadata": {
        "id": "view-in-github",
        "colab_type": "text"
      },
      "source": [
        "<a href=\"https://colab.research.google.com/github/shiernee/Getting_Started_with_AI_Tutorial/blob/main/AI_Workshop_MedicalImage_Example.ipynb\" target=\"_parent\"><img src=\"https://colab.research.google.com/assets/colab-badge.svg\" alt=\"Open In Colab\"/></a>"
      ]
    },
    {
      "cell_type": "code",
      "execution_count": null,
      "metadata": {
        "id": "po6NGv572N1P"
      },
      "outputs": [],
      "source": [
        ""
      ]
    }
  ]
}