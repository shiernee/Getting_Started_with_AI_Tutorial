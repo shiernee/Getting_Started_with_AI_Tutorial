{
  "nbformat": 4,
  "nbformat_minor": 0,
  "metadata": {
    "colab": {
      "name": "AI_Workshop_Day2.ipynb",
      "provenance": [],
      "collapsed_sections": [],
      "authorship_tag": "ABX9TyM2ZR/WcWQCJp7dg96G4nsj",
      "include_colab_link": true
    },
    "kernelspec": {
      "name": "python3",
      "display_name": "Python 3"
    },
    "language_info": {
      "name": "python"
    }
  },
  "cells": [
    {
      "cell_type": "markdown",
      "metadata": {
        "id": "view-in-github",
        "colab_type": "text"
      },
      "source": [
        "<a href=\"https://colab.research.google.com/github/shiernee/Getting_Started_with_AI_Tutorial/blob/main/AI_Workshop_Day2.ipynb\" target=\"_parent\"><img src=\"https://colab.research.google.com/assets/colab-badge.svg\" alt=\"Open In Colab\"/></a>"
      ]
    },
    {
      "cell_type": "markdown",
      "metadata": {
        "id": "2gWDkwnrM3x5"
      },
      "source": [
        "## Part 1: Boston Housing Price Prediction with Feed Forward Neural Networks\n",
        "\n",
        "Let's start with using a fully-connected neural network to do predict housing prices. \n",
        "\n",
        "For the Boston housing dataset, we get 506 rows of data, with 13 features in each. Our task is to build a regression model that takes these 13 features as input and output a single value prediction of the \"median value of owner-occupied homes (in $1000).\"\n",
        "\n",
        "Now, we load the dataset. Loading the dataset returns four NumPy arrays:\n",
        "\n",
        "* The `train_data` and `train_labels` arrays are the *training set*—the data the model uses to learn.\n",
        "* The model is tested against the *test set*, the `test_data`, and `test_labels` arrays."
      ]
    },
    {
      "cell_type": "markdown",
      "metadata": {
        "id": "-gb0OqiINE4o"
      },
      "source": [
        "## 1. Import Data"
      ]
    },
    {
      "cell_type": "code",
      "metadata": {
        "id": "jMkGmTRvOOrg",
        "colab": {
          "base_uri": "https://localhost:8080/"
        },
        "outputId": "3214bf09-02c5-4252-a267-bdafa58ab392"
      },
      "source": [
        "from sklearn.datasets import load_boston\n",
        "boston = load_boston()\n",
        "\n",
        "#A bunch is you remember is a dictionary based dataset.  Dictionaries are addressed by keys. \n",
        "#Let's look at the keys. \n",
        "print(boston.keys())\n"
      ],
      "execution_count": null,
      "outputs": [
        {
          "output_type": "stream",
          "name": "stdout",
          "text": [
            "dict_keys(['data', 'target', 'feature_names', 'DESCR', 'filename'])\n"
          ]
        }
      ]
    },
    {
      "cell_type": "code",
      "metadata": {
        "id": "jF-rxWBkOY4B",
        "colab": {
          "base_uri": "https://localhost:8080/"
        },
        "outputId": "a9b336d4-90d0-4b9c-f258-0b997e59d936"
      },
      "source": [
        "#DESCR sounds like it could be useful. Let's print the description.\n",
        "print(boston['DESCR'])"
      ],
      "execution_count": null,
      "outputs": [
        {
          "output_type": "stream",
          "name": "stdout",
          "text": [
            ".. _boston_dataset:\n",
            "\n",
            "Boston house prices dataset\n",
            "---------------------------\n",
            "\n",
            "**Data Set Characteristics:**  \n",
            "\n",
            "    :Number of Instances: 506 \n",
            "\n",
            "    :Number of Attributes: 13 numeric/categorical predictive. Median Value (attribute 14) is usually the target.\n",
            "\n",
            "    :Attribute Information (in order):\n",
            "        - CRIM     per capita crime rate by town\n",
            "        - ZN       proportion of residential land zoned for lots over 25,000 sq.ft.\n",
            "        - INDUS    proportion of non-retail business acres per town\n",
            "        - CHAS     Charles River dummy variable (= 1 if tract bounds river; 0 otherwise)\n",
            "        - NOX      nitric oxides concentration (parts per 10 million)\n",
            "        - RM       average number of rooms per dwelling\n",
            "        - AGE      proportion of owner-occupied units built prior to 1940\n",
            "        - DIS      weighted distances to five Boston employment centres\n",
            "        - RAD      index of accessibility to radial highways\n",
            "        - TAX      full-value property-tax rate per $10,000\n",
            "        - PTRATIO  pupil-teacher ratio by town\n",
            "        - B        1000(Bk - 0.63)^2 where Bk is the proportion of blacks by town\n",
            "        - LSTAT    % lower status of the population\n",
            "        - MEDV     Median value of owner-occupied homes in $1000's\n",
            "\n",
            "    :Missing Attribute Values: None\n",
            "\n",
            "    :Creator: Harrison, D. and Rubinfeld, D.L.\n",
            "\n",
            "This is a copy of UCI ML housing dataset.\n",
            "https://archive.ics.uci.edu/ml/machine-learning-databases/housing/\n",
            "\n",
            "\n",
            "This dataset was taken from the StatLib library which is maintained at Carnegie Mellon University.\n",
            "\n",
            "The Boston house-price data of Harrison, D. and Rubinfeld, D.L. 'Hedonic\n",
            "prices and the demand for clean air', J. Environ. Economics & Management,\n",
            "vol.5, 81-102, 1978.   Used in Belsley, Kuh & Welsch, 'Regression diagnostics\n",
            "...', Wiley, 1980.   N.B. Various transformations are used in the table on\n",
            "pages 244-261 of the latter.\n",
            "\n",
            "The Boston house-price data has been used in many machine learning papers that address regression\n",
            "problems.   \n",
            "     \n",
            ".. topic:: References\n",
            "\n",
            "   - Belsley, Kuh & Welsch, 'Regression diagnostics: Identifying Influential Data and Sources of Collinearity', Wiley, 1980. 244-261.\n",
            "   - Quinlan,R. (1993). Combining Instance-Based and Model-Based Learning. In Proceedings on the Tenth International Conference of Machine Learning, 236-243, University of Massachusetts, Amherst. Morgan Kaufmann.\n",
            "\n"
          ]
        }
      ]
    },
    {
      "cell_type": "markdown",
      "metadata": {
        "id": "1Vlsu870OoAO"
      },
      "source": [
        "# 2. Data Splitting\n"
      ]
    },
    {
      "cell_type": "code",
      "metadata": {
        "id": "sjWCedhzzL8g",
        "colab": {
          "base_uri": "https://localhost:8080/"
        },
        "outputId": "6f5745d3-87c9-4556-a35f-d662cdf39b75"
      },
      "source": [
        "from tensorflow import keras\n",
        "(train_features, train_labels), (test_features, test_labels) = keras.datasets.boston_housing.load_data()\n"
      ],
      "execution_count": null,
      "outputs": [
        {
          "output_type": "stream",
          "name": "stdout",
          "text": [
            "Downloading data from https://storage.googleapis.com/tensorflow/tf-keras-datasets/boston_housing.npz\n",
            "57344/57026 [==============================] - 0s 0us/step\n",
            "65536/57026 [==================================] - 0s 0us/step\n"
          ]
        }
      ]
    },
    {
      "cell_type": "markdown",
      "metadata": {
        "id": "G2iBZH4gOvlo"
      },
      "source": [
        "### **Exercise**\n",
        "\n",
        "How many number of samples in train and test datasets respectively."
      ]
    },
    {
      "cell_type": "code",
      "metadata": {
        "id": "JE5mrKUSOw9N"
      },
      "source": [
        "# type your code here (hint: len())\n"
      ],
      "execution_count": null,
      "outputs": []
    },
    {
      "cell_type": "code",
      "metadata": {
        "id": "km53WSDnO3GF",
        "colab": {
          "base_uri": "https://localhost:8080/"
        },
        "outputId": "c2cbb068-6836-4ebb-99a1-8fd040835c2b"
      },
      "source": [
        "#@title Solution\n",
        "print('train_features: ', len(train_features))\n",
        "print('test_features: ', len(test_features))\n"
      ],
      "execution_count": null,
      "outputs": [
        {
          "output_type": "stream",
          "name": "stdout",
          "text": [
            "train_features:  404\n",
            "test_features:  102\n"
          ]
        }
      ]
    },
    {
      "cell_type": "markdown",
      "metadata": {
        "id": "kxXXRpdgOrLv"
      },
      "source": [
        "### 3. Build the model\n",
        "\n",
        "Building the neural network requires configuring the layers of the model, then compiling the model. First we stack a few layers together using `keras.Sequential`. Next we configure the loss function, optimizer, and metrics to monitor. These are added during the model's compile step:\n",
        "\n",
        "* *Loss function* - measures how accurate the model is during training, we want to minimize this with the optimizer.\n",
        "* *Optimizer* - how the model is updated based on the data it sees and its loss function.\n",
        "* *Metrics* - used to monitor the training and testing steps.\n",
        "\n",
        "Let's build a network with 1 hidden layer of 20 neurons, and use mean squared error (MSE) as the loss function (most common one for regression problems):"
      ]
    },
    {
      "cell_type": "code",
      "metadata": {
        "id": "ZuYVRuKCPLUQ"
      },
      "source": [
        "import tensorflow as tf\n",
        "from tensorflow.keras.layers import Dense\n",
        "\n",
        "def build_model():\n",
        "    model = keras.Sequential([\n",
        "        Dense(20, activation=tf.nn.relu, input_shape=[len(train_features[0])]),\n",
        "        Dense(1)\n",
        "    ])\n",
        "\n",
        "    model.compile(optimizer=tf.optimizers.Adam(), \n",
        "                  loss='mse',\n",
        "                  metrics=['mse'])\n",
        "    return model\n",
        "\n",
        "\n",
        "model = build_model()"
      ],
      "execution_count": null,
      "outputs": []
    },
    {
      "cell_type": "markdown",
      "metadata": {
        "id": "rL0O4x2XR2wz"
      },
      "source": [
        "### 4. Train the model\n",
        "\n",
        "Training the neural network model requires the following steps:\n",
        "\n",
        "1. Feed the training data to the model—in this example, the `train_features` and `train_labels` arrays.\n",
        "2. The model learns to associate features and labels.\n",
        "3. We ask the model to make predictions about a test set—in this example, the `test_features` array. We verify that the predictions match the labels from the `test_labels` array. \n",
        "\n",
        "To start training,  call the `model.fit` method—the model is \"fit\" to the training data:"
      ]
    },
    {
      "cell_type": "code",
      "metadata": {
        "id": "HsXOf96rPSR7",
        "colab": {
          "base_uri": "https://localhost:8080/"
        },
        "outputId": "621d03e1-d908-4f73-bf89-4d4c45eef910"
      },
      "source": [
        "import pandas as pd\n",
        "import numpy as np\n",
        "\n",
        "# this helps makes our output less verbose but still shows progress\n",
        "class PrintDot(keras.callbacks.Callback):\n",
        "    def on_epoch_end(self, epoch, logs):\n",
        "        if epoch % 100 == 0: print('')\n",
        "        print('.', end='')\n",
        "\n",
        "early_stop = keras.callbacks.EarlyStopping(monitor='val_loss', patience=50)\n",
        "history = model.fit(train_features, train_labels, epochs=1000, verbose=0, validation_split = 0.1,\n",
        "                    callbacks=[early_stop, PrintDot()])\n",
        "\n",
        "hist = pd.DataFrame(history.history)\n",
        "hist['epoch'] = history.epoch\n",
        "\n",
        "# show RMSE measure to compare to Kaggle leaderboard on https://www.kaggle.com/c/boston-housing/leaderboard\n",
        "rmse_final = np.sqrt(float(hist['val_mse'].tail(1)))\n",
        "print()\n",
        "print('Final Root Mean Square Error on validation set: {}'.format(round(rmse_final, 3)))"
      ],
      "execution_count": null,
      "outputs": [
        {
          "output_type": "stream",
          "name": "stdout",
          "text": [
            "\n",
            "....................................................................................................\n",
            "........................................\n",
            "Final Root Mean Square Error on validation set: 4.988\n"
          ]
        }
      ]
    },
    {
      "cell_type": "markdown",
      "metadata": {
        "id": "uAGfF-hwPVKA"
      },
      "source": [
        "Now, let's plot the loss function measure on the training and validation sets. The validation set is used to prevent overfitting ([learn more about it here](https://www.tensorflow.org/tutorials/keras/overfit_and_underfit)). However, because our network is small, the training convergence without noticeably overfitting the data as the plot shows."
      ]
    },
    {
      "cell_type": "code",
      "metadata": {
        "id": "XvaxFwclPXUL",
        "colab": {
          "base_uri": "https://localhost:8080/",
          "height": 283
        },
        "outputId": "5a94cb52-f1fa-4ff2-b144-cb1631448998"
      },
      "source": [
        "import matplotlib.pyplot as plt\n",
        "\n",
        "def plot_history():\n",
        "    plt.figure()\n",
        "    plt.xlabel('Epoch')\n",
        "    plt.ylabel('Mean Square Error [Thousand Dollars$^2$]')\n",
        "    plt.plot(hist['epoch'], hist['mse'], label='Train Error')\n",
        "    plt.plot(hist['epoch'], hist['val_mse'], label = 'Val Error')\n",
        "    plt.legend()\n",
        "    plt.ylim([0,100])\n",
        "\n",
        "plot_history()"
      ],
      "execution_count": null,
      "outputs": [
        {
          "output_type": "display_data",
          "data": {
            "image/png": "[encoded data removed]",
            "text/plain": [
              "<Figure size 432x288 with 1 Axes>"
            ]
          },
          "metadata": {
            "needs_background": "light"
          }
        }
      ]
    },
    {
      "cell_type": "markdown",
      "metadata": {
        "id": "B4ICQecGPY-G"
      },
      "source": [
        "## 5. Evaluate accuracy\n",
        "\n",
        "Next, compare how the model performs on the test dataset:"
      ]
    },
    {
      "cell_type": "code",
      "metadata": {
        "id": "7MJjHzCoPfY8",
        "colab": {
          "base_uri": "https://localhost:8080/"
        },
        "outputId": "e5a5cead-ad1f-4b74-9117-70426961d1f2"
      },
      "source": [
        "_, mse = model.evaluate(test_features, test_labels)\n",
        "rmse = np.sqrt(mse)\n",
        "print('Root Mean Square Error on test set: {}'.format(round(rmse, 3)))\n"
      ],
      "execution_count": null,
      "outputs": [
        {
          "output_type": "stream",
          "name": "stdout",
          "text": [
            "4/4 [==============================] - 0s 3ms/step - loss: 43.7727 - mse: 43.7727\n",
            "Root Mean Square Error on test set: 6.616\n"
          ]
        }
      ]
    },
    {
      "cell_type": "markdown",
      "metadata": {
        "id": "s98YGXOoPhmr"
      },
      "source": [
        "# **Part 2. Design simple ANN model to predict SGA baby**\n",
        "## Classification of Normal vs. Small baby\n",
        "\n",
        "Task: Create a ANN model to predict the normal / small baby based on the second trimesters data. \n",
        "\n",
        "**Features:**\n",
        "1. Age\n",
        "2. Ethnics\n",
        "3. Head Circumference\n",
        "4. Abdominal Circumference \n",
        "2. Femur \n",
        "\n",
        "**Label:**\n",
        "1. Labels\n"
      ]
    },
    {
      "cell_type": "code",
      "metadata": {
        "id": "6w_MAhgTEOhA"
      },
      "source": [
        "# type your code here\n"
      ],
      "execution_count": null,
      "outputs": []
    },
    {
      "cell_type": "markdown",
      "metadata": {
        "id": "BEqVqTRpEChM"
      },
      "source": [
        "# Solutions\n",
        "Please try to do it yourself first. "
      ]
    },
    {
      "cell_type": "markdown",
      "metadata": {
        "id": "k8cImmAsut4l"
      },
      "source": [
        "### Step1: Import data\n",
        " "
      ]
    },
    {
      "cell_type": "code",
      "metadata": {
        "id": "m4K4QZGluzTo",
        "colab": {
          "base_uri": "https://localhost:8080/",
          "height": 423
        },
        "outputId": "f09618e0-5935-4ef3-aeda-4c499a4e72cd"
      },
      "source": [
        "import pandas as pd\n",
        "url = 'https://raw.githubusercontent.com/shiernee/AI_Tutorial/main/fetal_dataset.csv'\n",
        "data = pd.read_csv(url, delimiter=',')\n",
        "data"
      ],
      "execution_count": null,
      "outputs": [
        {
          "output_type": "execute_result",
          "data": {
            "text/html": [
              "<div>\n",
              "<style scoped>\n",
              "    .dataframe tbody tr th:only-of-type {\n",
              "        vertical-align: middle;\n",
              "    }\n",
              "\n",
              "    .dataframe tbody tr th {\n",
              "        vertical-align: top;\n",
              "    }\n",
              "\n",
              "    .dataframe thead th {\n",
              "        text-align: right;\n",
              "    }\n",
              "</style>\n",
              "<table border=\"1\" class=\"dataframe\">\n",
              "  <thead>\n",
              "    <tr style=\"text-align: right;\">\n",
              "      <th></th>\n",
              "      <th>ID</th>\n",
              "      <th>Gender</th>\n",
              "      <th>labels (0-healthy, 1-SGA)</th>\n",
              "      <th>Age</th>\n",
              "      <th>Ethnics</th>\n",
              "      <th>HC</th>\n",
              "      <th>AC</th>\n",
              "      <th>FL</th>\n",
              "    </tr>\n",
              "  </thead>\n",
              "  <tbody>\n",
              "    <tr>\n",
              "      <th>0</th>\n",
              "      <td>1</td>\n",
              "      <td>1</td>\n",
              "      <td>0</td>\n",
              "      <td>30</td>\n",
              "      <td>1</td>\n",
              "      <td>193.9</td>\n",
              "      <td>170.7</td>\n",
              "      <td>35.5</td>\n",
              "    </tr>\n",
              "    <tr>\n",
              "      <th>1</th>\n",
              "      <td>2</td>\n",
              "      <td>2</td>\n",
              "      <td>0</td>\n",
              "      <td>31</td>\n",
              "      <td>1</td>\n",
              "      <td>186.0</td>\n",
              "      <td>162.4</td>\n",
              "      <td>36.3</td>\n",
              "    </tr>\n",
              "    <tr>\n",
              "      <th>2</th>\n",
              "      <td>3</td>\n",
              "      <td>1</td>\n",
              "      <td>0</td>\n",
              "      <td>26</td>\n",
              "      <td>1</td>\n",
              "      <td>186.0</td>\n",
              "      <td>166.0</td>\n",
              "      <td>34.7</td>\n",
              "    </tr>\n",
              "    <tr>\n",
              "      <th>3</th>\n",
              "      <td>4</td>\n",
              "      <td>2</td>\n",
              "      <td>0</td>\n",
              "      <td>31</td>\n",
              "      <td>1</td>\n",
              "      <td>195.0</td>\n",
              "      <td>163.8</td>\n",
              "      <td>35.2</td>\n",
              "    </tr>\n",
              "    <tr>\n",
              "      <th>4</th>\n",
              "      <td>5</td>\n",
              "      <td>1</td>\n",
              "      <td>0</td>\n",
              "      <td>27</td>\n",
              "      <td>4</td>\n",
              "      <td>192.1</td>\n",
              "      <td>159.8</td>\n",
              "      <td>35.0</td>\n",
              "    </tr>\n",
              "    <tr>\n",
              "      <th>...</th>\n",
              "      <td>...</td>\n",
              "      <td>...</td>\n",
              "      <td>...</td>\n",
              "      <td>...</td>\n",
              "      <td>...</td>\n",
              "      <td>...</td>\n",
              "      <td>...</td>\n",
              "      <td>...</td>\n",
              "    </tr>\n",
              "    <tr>\n",
              "      <th>342</th>\n",
              "      <td>343</td>\n",
              "      <td>2</td>\n",
              "      <td>0</td>\n",
              "      <td>29</td>\n",
              "      <td>2</td>\n",
              "      <td>172.5</td>\n",
              "      <td>163.0</td>\n",
              "      <td>34.2</td>\n",
              "    </tr>\n",
              "    <tr>\n",
              "      <th>343</th>\n",
              "      <td>344</td>\n",
              "      <td>1</td>\n",
              "      <td>0</td>\n",
              "      <td>31</td>\n",
              "      <td>2</td>\n",
              "      <td>188.0</td>\n",
              "      <td>163.7</td>\n",
              "      <td>38.9</td>\n",
              "    </tr>\n",
              "    <tr>\n",
              "      <th>344</th>\n",
              "      <td>345</td>\n",
              "      <td>2</td>\n",
              "      <td>0</td>\n",
              "      <td>33</td>\n",
              "      <td>2</td>\n",
              "      <td>194.6</td>\n",
              "      <td>173.8</td>\n",
              "      <td>36.7</td>\n",
              "    </tr>\n",
              "    <tr>\n",
              "      <th>345</th>\n",
              "      <td>346</td>\n",
              "      <td>1</td>\n",
              "      <td>0</td>\n",
              "      <td>29</td>\n",
              "      <td>3</td>\n",
              "      <td>221.1</td>\n",
              "      <td>199.1</td>\n",
              "      <td>40.5</td>\n",
              "    </tr>\n",
              "    <tr>\n",
              "      <th>346</th>\n",
              "      <td>347</td>\n",
              "      <td>2</td>\n",
              "      <td>0</td>\n",
              "      <td>32</td>\n",
              "      <td>4</td>\n",
              "      <td>188.8</td>\n",
              "      <td>161.3</td>\n",
              "      <td>38.4</td>\n",
              "    </tr>\n",
              "  </tbody>\n",
              "</table>\n",
              "<p>347 rows × 8 columns</p>\n",
              "</div>"
            ],
            "text/plain": [
              "      ID  Gender  labels (0-healthy, 1-SGA)  Age  Ethnics     HC     AC    FL\n",
              "0      1       1                          0   30        1  193.9  170.7  35.5\n",
              "1      2       2                          0   31        1  186.0  162.4  36.3\n",
              "2      3       1                          0   26        1  186.0  166.0  34.7\n",
              "3      4       2                          0   31        1  195.0  163.8  35.2\n",
              "4      5       1                          0   27        4  192.1  159.8  35.0\n",
              "..   ...     ...                        ...  ...      ...    ...    ...   ...\n",
              "342  343       2                          0   29        2  172.5  163.0  34.2\n",
              "343  344       1                          0   31        2  188.0  163.7  38.9\n",
              "344  345       2                          0   33        2  194.6  173.8  36.7\n",
              "345  346       1                          0   29        3  221.1  199.1  40.5\n",
              "346  347       2                          0   32        4  188.8  161.3  38.4\n",
              "\n",
              "[347 rows x 8 columns]"
            ]
          },
          "metadata": {},
          "execution_count": 27
        }
      ]
    },
    {
      "cell_type": "code",
      "metadata": {
        "id": "7vlDd1rezCBv"
      },
      "source": [
        "X = data[['Age', 'Ethnics', 'HC', 'AC', 'FL']]\n",
        "y = data['labels (0-healthy, 1-SGA)']\n",
        "print(y)"
      ],
      "execution_count": null,
      "outputs": []
    },
    {
      "cell_type": "markdown",
      "metadata": {
        "id": "4WPGE74dCFE6"
      },
      "source": [
        "### Normalize your data (Optional)"
      ]
    },
    {
      "cell_type": "code",
      "metadata": {
        "id": "HUDCyl3x6cyR"
      },
      "source": [
        "import numpy as np\n",
        "# get per-feature statistics (mean, standard deviation) from the training set to normalize by\n",
        "X_mean = np.mean(X, axis=0)\n",
        "X_std = np.std(X, axis=0)\n",
        "X_features = (X - X_mean) / X_std\n",
        "print(X_features)"
      ],
      "execution_count": null,
      "outputs": []
    },
    {
      "cell_type": "markdown",
      "metadata": {
        "id": "bb0cLPICzN6F"
      },
      "source": [
        "## Step2: Data Splitting. \n",
        "Refer to this. <br> \n",
        "https://scikit-learn.org/stable/modules/generated/sklearn.model_selection.train_test_split.html\n"
      ]
    },
    {
      "cell_type": "code",
      "metadata": {
        "id": "g6MrXCUQzf7K",
        "colab": {
          "base_uri": "https://localhost:8080/"
        },
        "outputId": "3a2b2caf-ca7b-49d6-df5e-75494a0e1e8a"
      },
      "source": [
        "from sklearn.model_selection import train_test_split\n",
        "\n",
        "train_features, test_features, train_labels, test_labels = train_test_split(X_features, y, test_size=0.33, random_state=42)\n",
        "\n",
        "print(len(X_features))\n",
        "print(len(train_features))\n",
        "print(len(test_features))"
      ],
      "execution_count": null,
      "outputs": [
        {
          "output_type": "stream",
          "name": "stdout",
          "text": [
            "347\n",
            "232\n",
            "115\n"
          ]
        }
      ]
    },
    {
      "cell_type": "markdown",
      "metadata": {
        "id": "b6VyduF6zy5j"
      },
      "source": [
        "## Step3: Build Model \n"
      ]
    },
    {
      "cell_type": "code",
      "metadata": {
        "id": "2wqZy-Ioz7Mz"
      },
      "source": [
        "# 5 things to changes: \n",
        "# (i) input dim, (ii) last layer is 2 nodes, (iii) add softmax activation in last layer\n",
        "#(iv) change loss and metrics to 'sparse_categorical_crossentropy' and 'accuracy'\n",
        "\n",
        "input_dim = int(train_features.size/train_features.shape[0]) \n",
        "\n",
        "def build_model():\n",
        "    model = keras.Sequential([\n",
        "        Dense(20, activation=tf.nn.relu, input_shape=[input_dim]),\n",
        "        # output a softmax to squash the matrix into output probabilities\n",
        "        Dense(2, activation='softmax')\n",
        "    ])\n",
        "\n",
        "    model.compile(optimizer=tf.optimizers.Adam(), \n",
        "                  loss='sparse_categorical_crossentropy',\n",
        "                  metrics=['accuracy'])\n",
        "    return model\n",
        "\n",
        "\n",
        "model = build_model()\n"
      ],
      "execution_count": null,
      "outputs": []
    },
    {
      "cell_type": "markdown",
      "metadata": {
        "id": "HdqhVCTo0Zu7"
      },
      "source": [
        "## Step4: Train Model\n"
      ]
    },
    {
      "cell_type": "code",
      "metadata": {
        "id": "z9FeGSNa0cse",
        "colab": {
          "base_uri": "https://localhost:8080/"
        },
        "outputId": "3ed41150-d5e9-43b2-c978-cae588286d87"
      },
      "source": [
        "early_stop = keras.callbacks.EarlyStopping(monitor='val_loss', patience=100)\n",
        "\n",
        "history = model.fit(train_features, train_labels, epochs=1000, verbose=0, validation_split = 0.1,\n",
        "                    callbacks=[early_stop, PrintDot()])\n",
        "\n",
        "hist = pd.DataFrame(history.history)\n",
        "hist['epoch'] = history.epoch\n",
        "\n",
        "\n",
        "# show accuracy measure \n",
        "train_acc = float(hist['accuracy'].tail(1))\n",
        "val_acc = float(hist['val_accuracy'].tail(1))\n",
        "print()\n",
        "print('Train accuracy:', train_acc)\n",
        "print('Validation accuracy:', val_acc)"
      ],
      "execution_count": null,
      "outputs": [
        {
          "output_type": "stream",
          "name": "stdout",
          "text": [
            "\n",
            "....................................................................................................\n",
            "....................................................................................................\n",
            "....................................................................................................\n",
            "....................................................................................................\n",
            "................\n",
            "Train accuracy: 0.7259615659713745\n",
            "Validation accuracy: 0.625\n"
          ]
        }
      ]
    },
    {
      "cell_type": "code",
      "metadata": {
        "id": "CRYsF5O_6yXV",
        "colab": {
          "base_uri": "https://localhost:8080/",
          "height": 283
        },
        "outputId": "34c16e7f-bf75-4fe9-8b02-3d2d3bace52e"
      },
      "source": [
        "def plot_history():\n",
        "    plt.figure()\n",
        "    plt.xlabel('Epoch')\n",
        "    plt.ylabel('Mean Square Error [Thousand Dollars$^2$]')\n",
        "    plt.plot(hist['epoch'], hist['accuracy'], label='Train Accuracy')\n",
        "    plt.plot(hist['epoch'], hist['val_accuracy'], label = 'Val Accuracy')\n",
        "    plt.legend()\n",
        "    plt.ylim([0,1])\n",
        "\n",
        "plot_history()"
      ],
      "execution_count": null,
      "outputs": [
        {
          "output_type": "display_data",
          "data": {
            "image/png": "[encoded data removed]",
            "text/plain": [
              "<Figure size 432x288 with 1 Axes>"
            ]
          },
          "metadata": {
            "needs_background": "light"
          }
        }
      ]
    },
    {
      "cell_type": "markdown",
      "metadata": {
        "id": "jhMTgLjI7mD-"
      },
      "source": [
        "As the model trains, the loss and accuracy metrics are displayed. This model reaches an training accuracy of about 71% and validation accuracy 62% on the training data."
      ]
    },
    {
      "cell_type": "markdown",
      "metadata": {
        "id": "2NiaJ5e77Ga5"
      },
      "source": [
        "## 5. Evaluate accuracy\n",
        "\n",
        "Next, compare how the model performs on the test dataset:"
      ]
    },
    {
      "cell_type": "code",
      "metadata": {
        "id": "pdwLIR_J7NmD",
        "colab": {
          "base_uri": "https://localhost:8080/"
        },
        "outputId": "e668a22a-3de3-4a89-e16d-b5e3da4bf901"
      },
      "source": [
        "test_loss, test_acc = model.evaluate(test_features, test_labels)\n",
        "\n",
        "print('Test accuracy:', test_acc)"
      ],
      "execution_count": null,
      "outputs": [
        {
          "output_type": "stream",
          "name": "stdout",
          "text": [
            "4/4 [==============================] - 0s 3ms/step - loss: 0.7087 - accuracy: 0.6174\n",
            "Test accuracy: 0.6173912882804871\n"
          ]
        }
      ]
    },
    {
      "cell_type": "markdown",
      "metadata": {
        "id": "XRyrhR188Ynw"
      },
      "source": [
        "Often times, the accuracy on the test dataset is a little less than the accuracy on the training dataset. This gap between training accuracy and test accuracy is an example of *overfitting*. "
      ]
    },
    {
      "cell_type": "markdown",
      "metadata": {
        "id": "OHaWWAhO8e1F"
      },
      "source": [
        "## Acknowledgements\n",
        "\n",
        "The contents of the Part 1: Regression tutorial is inspired and based on Lex Friedman's [tutorial_deep_learning_basic.ipynb](https://colab.research.google.com/github/lexfridman/mit-deep-learning/blob/master/tutorial_deep_learning_basics/deep_learning_basics.ipynb#scrollTo=IysPmcOBHBE9) \n"
      ]
    }
  ]
}