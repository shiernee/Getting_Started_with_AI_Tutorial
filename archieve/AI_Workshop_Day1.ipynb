{
  "cells": [
    {
      "cell_type": "markdown",
      "metadata": {
        "id": "view-in-github",
        "colab_type": "text"
      },
      "source": [
        "<a href=\"https://colab.research.google.com/github/shiernee/Getting_Started_with_AI_Tutorial/blob/main/AI_Workshop_Day1.ipynb\" target=\"_parent\"><img src=\"https://colab.research.google.com/assets/colab-badge.svg\" alt=\"Open In Colab\"/></a>"
      ]
    },
    {
      "cell_type": "markdown",
      "metadata": {
        "id": "NYqCknH5FxFH"
      },
      "source": [
        "#**Part 1: Google Colab Introductory Workshop**\n",
        "\n",
        "The first part of the workshop will introduce important features in available in Colab. <br>\n",
        "\n",
        "Colab is an interactive coding enviroment to get start to code easily. The code can be executed easily by click the *play* button on the cell. <br>\n",
        "\n",
        "Let's get started.\n"
      ]
    },
    {
      "cell_type": "markdown",
      "metadata": {
        "id": "pkqJlxFeQnm_"
      },
      "source": [
        " **Let's try to print *Hello World***\n"
      ]
    },
    {
      "cell_type": "code",
      "execution_count": 1,
      "metadata": {
        "id": "eMJTVMqc0G-5",
        "colab": {
          "base_uri": "https://localhost:8080/"
        },
        "outputId": "8d3d2b33-440d-4a35-d61d-504930afcc48"
      },
      "outputs": [
        {
          "output_type": "stream",
          "name": "stdout",
          "text": [
            "Hello World\n"
          ]
        }
      ],
      "source": [
        "print('Hello World')"
      ]
    },
    {
      "cell_type": "code",
      "execution_count": 3,
      "metadata": {
        "id": "i7Q_rCkfQAMx"
      },
      "outputs": [],
      "source": [
        "# It's your turn to try. \n",
        "# Print your name. \n",
        "# Type your code below and click the play button to execute the cell. \n",
        "# You should see you name appear.\n"
      ]
    },
    {
      "cell_type": "code",
      "execution_count": 5,
      "metadata": {
        "cellView": "form",
        "colab": {
          "base_uri": "https://localhost:8080/"
        },
        "id": "lp82b8u0Zs0B",
        "outputId": "394b4101-3ee9-457e-851f-2e4bdf46ca9d"
      },
      "outputs": [
        {
          "output_type": "stream",
          "name": "stdout",
          "text": [
            "Shinnosuke Nohara\n"
          ]
        }
      ],
      "source": [
        "#@title Solution\n",
        "print('Kenta Shin')"
      ]
    },
    {
      "cell_type": "markdown",
      "metadata": {
        "id": "AVsdInd3RFnl"
      },
      "source": [
        "**Perform Calculation**"
      ]
    },
    {
      "cell_type": "code",
      "execution_count": null,
      "metadata": {
        "colab": {
          "base_uri": "https://localhost:8080/"
        },
        "id": "1r0ciAcJQGon",
        "outputId": "78206be6-89ca-49ad-82ac-eb9d31601c3d"
      },
      "outputs": [
        {
          "data": {
            "text/plain": [
              "86400"
            ]
          },
          "execution_count": 4,
          "metadata": {},
          "output_type": "execute_result"
        }
      ],
      "source": [
        "seconds_in_a_day = 24 * 60 * 60\n",
        "seconds_in_a_day"
      ]
    },
    {
      "cell_type": "code",
      "execution_count": null,
      "metadata": {
        "id": "wgX6CDdVRN8e"
      },
      "outputs": [],
      "source": [
        "# It's your turn to try. \n",
        "# Perform calculation of 45 divided by 20 and then multiplies by 8\n",
        "# Type your code below and click the play button to execute the cell. \n",
        "# You should get an answer of 18.\n"
      ]
    },
    {
      "cell_type": "code",
      "execution_count": 6,
      "metadata": {
        "cellView": "form",
        "colab": {
          "base_uri": "https://localhost:8080/"
        },
        "id": "7FR9dS9QZzHD",
        "outputId": "33703fa2-f7ff-47ef-f375-f2f0aea62769"
      },
      "outputs": [
        {
          "output_type": "execute_result",
          "data": {
            "text/plain": [
              "18.0"
            ]
          },
          "metadata": {},
          "execution_count": 6
        }
      ],
      "source": [
        "#@title Solution\n",
        "45/20*8"
      ]
    },
    {
      "cell_type": "markdown",
      "metadata": {
        "id": "fJJuwAlYR2nS"
      },
      "source": [
        "**Create a Loop**"
      ]
    },
    {
      "cell_type": "code",
      "execution_count": null,
      "metadata": {
        "colab": {
          "base_uri": "https://localhost:8080/"
        },
        "id": "MEzbZqQ_R7Vf",
        "outputId": "6920dcb1-b41b-45e0-ea8a-a44951238b3c"
      },
      "outputs": [
        {
          "name": "stdout",
          "output_type": "stream",
          "text": [
            "0\n",
            "1\n",
            "2\n",
            "3\n",
            "4\n",
            "5\n",
            "6\n",
            "7\n",
            "8\n",
            "9\n"
          ]
        }
      ],
      "source": [
        "# Creating a loop \n",
        "# Python always start from zero\n",
        "# range(start, end, step)\n",
        "\n",
        "for i in range(10):\n",
        "  print(i)"
      ]
    },
    {
      "cell_type": "code",
      "execution_count": null,
      "metadata": {
        "id": "eWqHuSYnSnO-"
      },
      "outputs": [],
      "source": [
        "# It's your turn to try. \n",
        "# Create a loop to print from 2 to 10 \n",
        "# Type your code below and click the play button to execute the cell. \n",
        "# You should get an answer of 2,3,4,5,6,7,8,9,10.\n"
      ]
    },
    {
      "cell_type": "code",
      "execution_count": null,
      "metadata": {
        "cellView": "form",
        "colab": {
          "base_uri": "https://localhost:8080/"
        },
        "id": "vj_ZAyFNZ5uy",
        "outputId": "671188b4-a4c3-4aaa-9cf9-7c6fe12f4d67"
      },
      "outputs": [
        {
          "name": "stdout",
          "output_type": "stream",
          "text": [
            "2\n",
            "3\n",
            "4\n",
            "5\n",
            "6\n",
            "7\n",
            "8\n",
            "9\n",
            "10\n"
          ]
        }
      ],
      "source": [
        "#@title Solution\n",
        "for i in range(2, 11):\n",
        "  print(i)"
      ]
    },
    {
      "cell_type": "code",
      "execution_count": null,
      "metadata": {
        "id": "0V9tFHC8SdaJ"
      },
      "outputs": [],
      "source": [
        "# It's your turn to try. \n",
        "# Create a loop to print from 2 to 10, by skipping 2\n",
        "# Type your code below and click the play button to execute the cell. \n",
        "# You should get an answer of 2,4,6,8,10\n"
      ]
    },
    {
      "cell_type": "code",
      "execution_count": null,
      "metadata": {
        "cellView": "form",
        "colab": {
          "base_uri": "https://localhost:8080/"
        },
        "id": "emM39d_IaAGi",
        "outputId": "61d926a5-d4fe-47f3-a634-a2629a197cb5"
      },
      "outputs": [
        {
          "name": "stdout",
          "output_type": "stream",
          "text": [
            "2\n",
            "4\n",
            "6\n",
            "8\n",
            "10\n"
          ]
        }
      ],
      "source": [
        "#@title Solution\n",
        "for i in range(2, 11, 2):\n",
        "  print(i)"
      ]
    },
    {
      "cell_type": "markdown",
      "metadata": {
        "id": "Rq1nBhD5Tc5m"
      },
      "source": [
        "**Create a list of values**"
      ]
    },
    {
      "cell_type": "code",
      "execution_count": null,
      "metadata": {
        "colab": {
          "base_uri": "https://localhost:8080/"
        },
        "id": "WFVrePErTYOo",
        "outputId": "9ce6e3bd-cd05-4014-c788-b250ffdc5835"
      },
      "outputs": [
        {
          "name": "stdout",
          "output_type": "stream",
          "text": [
            "[0, 1, 2, 3, 4, 5, 6, 7, 8, 9]\n"
          ]
        }
      ],
      "source": [
        "# Create a list of value from 0 to 9\n",
        "x = []\n",
        "for i in range(10):\n",
        "  x.append(i)\n",
        "\n",
        "print(x)"
      ]
    },
    {
      "cell_type": "code",
      "execution_count": null,
      "metadata": {
        "colab": {
          "base_uri": "https://localhost:8080/"
        },
        "id": "Il8OmA5FTp8t",
        "outputId": "f40a495c-189a-4027-a9b6-a50e716f5437"
      },
      "outputs": [
        {
          "name": "stdout",
          "output_type": "stream",
          "text": [
            "[0, 1, 2, 3, 4, 5, 6, 7, 8, 9]\n"
          ]
        }
      ],
      "source": [
        "# Another compact way to create a list of value\n",
        "x = [x for x in range(10)]\n",
        "print(x) "
      ]
    },
    {
      "cell_type": "code",
      "execution_count": null,
      "metadata": {
        "id": "M-UXC5NnT1bj"
      },
      "outputs": [],
      "source": [
        "# It's your turn to try. \n",
        "# Create a list of value ranging from 2 to 10, by skipping 2\n",
        "# Type your code below and click the play button to execute the cell. \n",
        "# Print out the list. You should get [2,4,6,8,10]\n"
      ]
    },
    {
      "cell_type": "code",
      "execution_count": null,
      "metadata": {
        "cellView": "form",
        "colab": {
          "base_uri": "https://localhost:8080/"
        },
        "id": "hcYi1GwYY4WF",
        "outputId": "b67a2fe5-e6cc-4988-b57d-ba2e121fd634"
      },
      "outputs": [
        {
          "name": "stdout",
          "output_type": "stream",
          "text": [
            "[2, 4, 6, 8, 10]\n"
          ]
        }
      ],
      "source": [
        "#@title Solution\n",
        "\n",
        "x = [x for x in range(2, 11, 2)]\n",
        "print(x) "
      ]
    },
    {
      "cell_type": "markdown",
      "metadata": {
        "id": "wMFa3dc1TLOj"
      },
      "source": [
        "**Graph Visualization**"
      ]
    },
    {
      "cell_type": "code",
      "execution_count": null,
      "metadata": {
        "colab": {
          "base_uri": "https://localhost:8080/",
          "height": 295
        },
        "id": "BUftrGNSSF-E",
        "outputId": "e6850e21-67e9-4b73-9d72-97c71dd613c2"
      },
      "outputs": [
        {
          "data": {
            "image/png": "[encoded data removed]",
            "text/plain": [
              "<Figure size 432x288 with 1 Axes>"
            ]
          },
          "metadata": {},
          "output_type": "display_data"
        }
      ],
      "source": [
        "# We need to import packages\n",
        "# numpy for creating array and matplotlib for plotting \n",
        "\n",
        "import numpy as np\n",
        "from matplotlib import pyplot as plt\n",
        "\n",
        "ys = 200 + np.random.randn(100)  # create random numbers with a length of 100\n",
        "x = [x for x in range(len(ys))]\n",
        "x = np.array(x)\n",
        "\n",
        "plt.plot(x, ys, '-')\n",
        "plt.title(\"Sample Visualization\")\n",
        "plt.xlabel('x')\n",
        "plt.ylabel('y')\n",
        "plt.show()"
      ]
    },
    {
      "cell_type": "code",
      "execution_count": null,
      "metadata": {
        "id": "7GC05vEsVVxY"
      },
      "outputs": [],
      "source": [
        "# It's your turn to try. \n",
        "# Create a list of x-value ranging from 0 to 500, by skipping 2\n",
        "# Create a list of y-value using the formula y = 5x^2 \n",
        "# square --> **; multiple --> *, divide --> /, plus --> +, minus --> -\n",
        "# Type your code below and click the play button to execute the cell. \n"
      ]
    },
    {
      "cell_type": "code",
      "execution_count": null,
      "metadata": {
        "cellView": "form",
        "colab": {
          "base_uri": "https://localhost:8080/",
          "height": 295
        },
        "id": "A57CF73ZZke8",
        "outputId": "eb5705f3-f803-4f01-d358-8ce9c58a46f6"
      },
      "outputs": [
        {
          "data": {
            "image/png": "[encoded data removed]",
            "text/plain": [
              "<Figure size 432x288 with 1 Axes>"
            ]
          },
          "metadata": {},
          "output_type": "display_data"
        }
      ],
      "source": [
        "#@title Solution\n",
        "import numpy as np\n",
        "from matplotlib import pyplot as plt\n",
        "\n",
        "x = [x for x in range(0, 501, 2)]\n",
        "x = np.array(x)\n",
        "ys = 5*(x**2)\n",
        "\n",
        "plt.plot(x, ys, '-')\n",
        "plt.title(\"Sample Visualization\")\n",
        "plt.xlabel('x')\n",
        "plt.ylabel('y')\n",
        "plt.show()"
      ]
    },
    {
      "cell_type": "markdown",
      "metadata": {
        "id": "SbR1NOveWwH2"
      },
      "source": [
        "**Uploading files from your local file system** <br>\n",
        "files.upload returns a dictionary of the files which were uploaded. The dictionary is keyed by the file name and values are the data which were uploaded. <br>\n",
        "\n",
        "Refresh the folder in the left panel and you will the dataset you have uploaded. "
      ]
    },
    {
      "cell_type": "code",
      "execution_count": null,
      "metadata": {
        "id": "QclwRzIZWvoD"
      },
      "outputs": [],
      "source": [
        "from google.colab import files\n",
        "\n",
        "uploaded = files.upload()\n",
        "\n",
        "for fn in uploaded.keys():\n",
        "  print('User uploaded file \"{name}\" with length {length} bytes'.format(\n",
        "      name=fn, length=len(uploaded[fn])))"
      ]
    },
    {
      "cell_type": "markdown",
      "metadata": {
        "id": "dyOR3xUBcHNY"
      },
      "source": [
        "#**Part 2: Classification of MNIST Dreams with Convolutional Neural Networks**\n",
        "\n",
        "\n",
        "\n",
        "Let's go back to powerpoint to understand the concepts. \n",
        "\n"
      ]
    },
    {
      "cell_type": "markdown",
      "metadata": {
        "id": "gu_6xSOmjfn-"
      },
      "source": [
        "Now, we are ready. Let's build a convolutional neural network (CNN) classifier to classify images of handwritten digits in the MNIST dataset with a twist where we test our classifier on high-resolution hand-written digits from outside the dataset."
      ]
    },
    {
      "cell_type": "markdown",
      "metadata": {
        "id": "rux9DMMHgxrC"
      },
      "source": [
        "## 1. Import Data"
      ]
    },
    {
      "cell_type": "code",
      "execution_count": 18,
      "metadata": {
        "id": "CMxLhrm4c4A5"
      },
      "outputs": [],
      "source": [
        "from sklearn.datasets import fetch_openml\n",
        "\n",
        "mnist = fetch_openml('mnist_784', cache=False)\n",
        "X = mnist.data.astype('float32') # image\n",
        "y = mnist.target.astype('int64')  # label"
      ]
    },
    {
      "cell_type": "code",
      "execution_count": 44,
      "metadata": {
        "colab": {
          "base_uri": "https://localhost:8080/",
          "height": 333
        },
        "id": "6qiUrN-Eda_f",
        "outputId": "4c512712-3f93-4115-9267-648aa8d7b822"
      },
      "outputs": [
        {
          "output_type": "stream",
          "name": "stdout",
          "text": [
            "image width:  28\n",
            "image height:  28\n"
          ]
        },
        {
          "output_type": "execute_result",
          "data": {
            "text/plain": [
              "Text(0.5, 1.0, '3')"
            ]
          },
          "metadata": {},
          "execution_count": 44
        },
        {
          "output_type": "display_data",
          "data": {
            "image/png": "[encoded data removed]",
            "text/plain": [
              "<Figure size 432x288 with 1 Axes>"
            ]
          },
          "metadata": {
            "needs_background": "light"
          }
        }
      ],
      "source": [
        "# randomly view datasets\n",
        "# re-execute the cell to view other datasets\n",
        "import matplotlib.pyplot as plt\n",
        "import numpy as np\n",
        "\n",
        "index = np.random.randint(0,len(X))\n",
        "\n",
        "img_to_show = X.iloc[index].to_numpy()\n",
        "w, h = int(np.sqrt(len(img_to_show))), int(np.sqrt(len(img_to_show)))\n",
        "print('image width: ', w)\n",
        "print('image height: ', h)\n",
        "img_to_show = np.reshape(img_to_show, [w, h])\n",
        "plt.imshow(img_to_show)\n",
        "plt.title(y[index])"
      ]
    },
    {
      "cell_type": "markdown",
      "metadata": {
        "id": "tzHArh21f45A"
      },
      "source": [
        "# 2. Data Splitting\n"
      ]
    },
    {
      "cell_type": "code",
      "execution_count": 45,
      "metadata": {
        "colab": {
          "base_uri": "https://localhost:8080/"
        },
        "id": "Xlzg-2kuf4op",
        "outputId": "f97447a6-235d-4d4b-acca-4137dee111e6"
      },
      "outputs": [
        {
          "output_type": "stream",
          "name": "stdout",
          "text": [
            "Downloading data from https://storage.googleapis.com/tensorflow/tf-keras-datasets/mnist.npz\n",
            "11493376/11490434 [==============================] - 0s 0us/step\n",
            "11501568/11490434 [==============================] - 0s 0us/step\n"
          ]
        }
      ],
      "source": [
        "import tensorflow as tf\n",
        "from tensorflow import keras\n",
        "from tensorflow.keras.layers import Conv2D, MaxPooling2D, Dropout, Flatten, Dense\n",
        "\n",
        "(train_images_load, train_labels_load), (test_images_load, test_labels_load) = keras.datasets.mnist.load_data()\n",
        "\n",
        "# reshape images to specify that it's a single channel\n",
        "train_images_load = train_images_load.reshape(train_images_load.shape[0], 28, 28, 1)\n",
        "test_images_load = test_images_load.reshape(test_images_load.shape[0], 28, 28, 1)\n",
        "\n",
        "# Takes only the first 10000 training data and 6000 testing data due to limited computational resources\n",
        "\n",
        "no_train = 10000\n",
        "no_test = 6000\n",
        "\n",
        "train_images = train_images_load[:no_train]\n",
        "train_labels = train_labels_load[:no_train]\n",
        "test_images = test_images_load[:no_test]\n",
        "test_labels = test_labels_load[:no_test]\n"
      ]
    },
    {
      "cell_type": "markdown",
      "metadata": {
        "id": "OESq6QzN0NmF"
      },
      "source": [
        "### **Exercise**\n",
        "\n",
        "Check if the number of samples in train and test image are 10,000 and 6,000 respectively"
      ]
    },
    {
      "cell_type": "code",
      "execution_count": null,
      "metadata": {
        "id": "R4JTVHWv0BOd"
      },
      "outputs": [],
      "source": [
        "# type your code here \n"
      ]
    },
    {
      "cell_type": "code",
      "execution_count": null,
      "metadata": {
        "cellView": "form",
        "colab": {
          "base_uri": "https://localhost:8080/"
        },
        "id": "rk3aZn_z0aBq",
        "outputId": "d53a4a3b-3829-4eef-ce79-d65cce048c02"
      },
      "outputs": [
        {
          "name": "stdout",
          "output_type": "stream",
          "text": [
            "train_image:  10000\n",
            "test_images:  6000\n"
          ]
        }
      ],
      "source": [
        "#@title Solution\n",
        "print('train_image: ', len(train_images))\n",
        "print('test_images: ', len(test_images))\n"
      ]
    },
    {
      "cell_type": "markdown",
      "metadata": {
        "id": "PGC7L1NFgOQ6"
      },
      "source": [
        "We scale these values to a range of 0 to 1 before feeding to the neural network model. For this, we divide the values by 255. It's important that the *training set* and the *testing set* are preprocessed in the same way:"
      ]
    },
    {
      "cell_type": "code",
      "execution_count": 46,
      "metadata": {
        "id": "d5Ptl1gIe_YZ"
      },
      "outputs": [],
      "source": [
        "def preprocess_images(imgs): # should work for both a single image and multiple images\n",
        "    sample_img = imgs if len(imgs.shape) == 2 else imgs[0]\n",
        "    assert sample_img.shape in [(28, 28, 1), (28, 28)], sample_img.shape # make sure images are 28x28 and single-channel (grayscale)\n",
        "    return imgs / 255.0\n",
        "\n",
        "train_images = preprocess_images(train_images)\n",
        "test_images = preprocess_images(test_images)"
      ]
    },
    {
      "cell_type": "markdown",
      "metadata": {
        "id": "-nAo0eedgRv1"
      },
      "source": [
        "Display the first 5 images from the *training set* and display the class name below each image. Verify that the data is in the correct format and we're ready to build and train the network."
      ]
    },
    {
      "cell_type": "code",
      "execution_count": 47,
      "metadata": {
        "colab": {
          "base_uri": "https://localhost:8080/",
          "height": 141
        },
        "id": "4QE7KXL8gTMR",
        "outputId": "83d642b4-2e52-4a00-9307-25c81f523627"
      },
      "outputs": [
        {
          "output_type": "display_data",
          "data": {
            "image/png": "[encoded data removed]",
            "text/plain": [
              "<Figure size 720x144 with 5 Axes>"
            ]
          },
          "metadata": {}
        }
      ],
      "source": [
        "plt.figure(figsize=(10,2))\n",
        "for i in range(5):\n",
        "    plt.subplot(1,5,i+1)\n",
        "    plt.xticks([])\n",
        "    plt.yticks([])\n",
        "    plt.grid(False)\n",
        "    plt.imshow(train_images[i].reshape(28, 28), cmap=plt.cm.binary)\n",
        "    plt.xlabel(train_labels[i])"
      ]
    },
    {
      "cell_type": "markdown",
      "metadata": {
        "id": "Qu_SFcnAg77P"
      },
      "source": [
        "## 3. Build the model\n",
        "\n",
        "Building the neural network requires configuring the layers of the model, then compiling the model. In many cases, this can be reduced to simply stacking together layers:"
      ]
    },
    {
      "cell_type": "code",
      "execution_count": 50,
      "metadata": {
        "id": "LsPDmpbDhJJ5"
      },
      "outputs": [],
      "source": [
        "model = keras.Sequential()\n",
        "# 32 convolution filters used each of size 3x3\n",
        "model.add(Conv2D(32, kernel_size=(3, 3), activation='relu', input_shape=(28, 28, 1)))\n",
        "# 64 convolution filters used each of size 3x3\n",
        "model.add(Conv2D(64, (3, 3), activation='relu'))\n",
        "# choose the best features via pooling\n",
        "model.add(MaxPooling2D(pool_size=(2, 2)))\n",
        "# randomly turn neurons on and off to improve convergence\n",
        "model.add(Dropout(0.25))\n",
        "# flatten since too many dimensions, we only want a classification output\n",
        "model.add(Flatten())\n",
        "# fully connected to get all relevant data\n",
        "model.add(Dense(128, activation='relu'))\n",
        "# one more dropout\n",
        "model.add(Dropout(0.5))\n",
        "# output a softmax to squash the matrix into output probabilities\n",
        "model.add(Dense(10, activation='softmax'))"
      ]
    },
    {
      "cell_type": "markdown",
      "metadata": {
        "id": "wKYLbPWghLFD"
      },
      "source": [
        "Before the model is ready for training, it needs a few more settings. These are added during the model's *compile* step:\n",
        "\n",
        "* *Loss function* - measures how accurate the model is during training, we want to minimize this with the optimizer.\n",
        "* *Optimizer* - how the model is updated based on the data it sees and its loss function.\n",
        "* *Metrics* - used to monitor the training and testing steps. \"accuracy\" is the fraction of images that are correctly classified."
      ]
    },
    {
      "cell_type": "code",
      "execution_count": 54,
      "metadata": {
        "id": "cdtSKK5rhMkh"
      },
      "outputs": [],
      "source": [
        "model.compile(optimizer= tf.optimizers.Adam(), \n",
        "              loss='sparse_categorical_crossentropy',\n",
        "              metrics=['accuracy'])"
      ]
    },
    {
      "cell_type": "markdown",
      "metadata": {
        "id": "CdOPTOLUhOMT"
      },
      "source": [
        "## 4. Train the model\n",
        "\n",
        "Training the neural network model requires the following steps:\n",
        "\n",
        "1. Feed the training data to the model—in this example, the `train_images` and `train_labels` arrays.\n",
        "2. The model learns to associate images and labels.\n",
        "3. We ask the model to make predictions about a test set—in this example, the `test_images` array. We verify that the predictions match the labels from the `test_labels` array. \n",
        "\n",
        "To start training,  call the `model.fit` method—the model is \"fit\" to the training data:"
      ]
    },
    {
      "cell_type": "code",
      "execution_count": 55,
      "metadata": {
        "colab": {
          "base_uri": "https://localhost:8080/"
        },
        "id": "KvIhWAhihQDH",
        "outputId": "89303480-d00d-4a51-b435-7e2a7a445c77"
      },
      "outputs": [
        {
          "output_type": "stream",
          "name": "stdout",
          "text": [
            "Epoch 1/5\n",
            "313/313 [==============================] - 29s 91ms/step - loss: 0.4844 - accuracy: 0.8464\n",
            "Epoch 2/5\n",
            "313/313 [==============================] - 29s 91ms/step - loss: 0.1773 - accuracy: 0.9485\n",
            "Epoch 3/5\n",
            "313/313 [==============================] - 28s 89ms/step - loss: 0.1185 - accuracy: 0.9647\n",
            "Epoch 4/5\n",
            "313/313 [==============================] - 28s 89ms/step - loss: 0.0957 - accuracy: 0.9706\n",
            "Epoch 5/5\n",
            "313/313 [==============================] - 28s 89ms/step - loss: 0.0717 - accuracy: 0.9775\n"
          ]
        }
      ],
      "source": [
        "history = model.fit(train_images, train_labels, epochs=5)"
      ]
    },
    {
      "cell_type": "markdown",
      "metadata": {
        "id": "hjEIVYQFhSFH"
      },
      "source": [
        "As the model trains, the loss and accuracy metrics are displayed. This model reaches an accuracy of about 97.88% on the training data."
      ]
    },
    {
      "cell_type": "markdown",
      "metadata": {
        "id": "LNUBsuORhUtp"
      },
      "source": [
        "## 5. Evaluate accuracy\n",
        "\n",
        "Next, compare how the model performs on the test dataset:"
      ]
    },
    {
      "cell_type": "code",
      "execution_count": 56,
      "metadata": {
        "colab": {
          "base_uri": "https://localhost:8080/"
        },
        "id": "d53BZSpIhT7u",
        "outputId": "84f774b9-0bef-434e-d9e7-3ddf9558c0bf"
      },
      "outputs": [
        {
          "output_type": "stream",
          "name": "stdout",
          "text": [
            "(6000, 28, 28, 1)\n",
            "188/188 [==============================] - 4s 23ms/step - loss: 0.0772 - accuracy: 0.9762\n",
            "Test accuracy: 0.9761666655540466\n"
          ]
        }
      ],
      "source": [
        "print(test_images.shape)\n",
        "test_loss, test_acc = model.evaluate(test_images, test_labels)\n",
        "\n",
        "print('Test accuracy:', test_acc)"
      ]
    },
    {
      "cell_type": "markdown",
      "metadata": {
        "id": "4ZgbaSfZhZjG"
      },
      "source": [
        "Often times, the accuracy on the test dataset is a little less than the accuracy on the training dataset. This gap between training accuracy and test accuracy is an example of *overfitting*. "
      ]
    },
    {
      "cell_type": "markdown",
      "metadata": {
        "id": "DG3N7YdEptDd"
      },
      "source": [
        "## 6. Visualize Prediction Results"
      ]
    },
    {
      "cell_type": "markdown",
      "metadata": {
        "id": "sl-P4RB0pwze"
      },
      "source": [
        "Your task is to take one of these images as input and predict the most likely digit contained in the image (along with a relative confidence in this prediction):"
      ]
    },
    {
      "cell_type": "code",
      "execution_count": 65,
      "metadata": {
        "id": "YqvcI0qspsjd",
        "colab": {
          "base_uri": "https://localhost:8080/"
        },
        "outputId": "42021dd5-c4b1-48e4-cd33-f991f9301d0b"
      },
      "outputs": [
        {
          "output_type": "stream",
          "name": "stdout",
          "text": [
            "[1.1945226e-09 9.0578283e-09 7.7093009e-06 5.4496554e-06 9.2263658e-10\n",
            " 1.1699671e-09 4.2462999e-12 9.9998629e-01 1.8684649e-09 5.3061626e-07]\n",
            "7\n"
          ]
        }
      ],
      "source": [
        "y_predict_prob = model.predict(test_images)  \n",
        "y_predict = np.argmax(y_predict_prob, axis=1)\n",
        "\n",
        "n = 0\n",
        "print(y_predict_prob[n])\n",
        "print(y_predict[n])\n"
      ]
    },
    {
      "cell_type": "markdown",
      "metadata": {
        "id": "jnczeBGtuQ-Y"
      },
      "source": [
        "Display the first 5 images from the *testing set* and display the predicted class name below each image. "
      ]
    },
    {
      "cell_type": "code",
      "execution_count": 62,
      "metadata": {
        "colab": {
          "base_uri": "https://localhost:8080/",
          "height": 141
        },
        "id": "L05wG51HqUoC",
        "outputId": "5713514a-7a02-4e70-e563-2cf24e0d4391"
      },
      "outputs": [
        {
          "output_type": "display_data",
          "data": {
            "image/png": "[encoded data removed]",
            "text/plain": [
              "<Figure size 720x144 with 5 Axes>"
            ]
          },
          "metadata": {}
        }
      ],
      "source": [
        "import random \n",
        "\n",
        "plt.figure(figsize=(10,2))\n",
        "plt.title('Prediction')\n",
        "\n",
        "randomlist = random.sample(range(0, len(test_images)), 5)\n",
        "\n",
        "for i in range(5):\n",
        "    plt.subplot(1,5,i+1)\n",
        "    plt.xticks([])\n",
        "    plt.yticks([])\n",
        "    plt.grid(False)\n",
        "    plt.imshow(test_images[randomlist[i]].reshape(28, 28), cmap=plt.cm.binary)\n",
        "    plt.xlabel(y_predict[randomlist[i]])"
      ]
    },
    {
      "cell_type": "markdown",
      "metadata": {
        "id": "fYB2nPWbkjuj"
      },
      "source": [
        "## Acknowledgements\n",
        "\n",
        "The contents of the Part 2: Classification tutorial is inspired and based on Lex Friedman's [tutorial_deep_learning_basic.ipynb](https://colab.research.google.com/github/lexfridman/mit-deep-learning/blob/master/tutorial_deep_learning_basics/deep_learning_basics.ipynb#scrollTo=IysPmcOBHBE9) "
      ]
    }
  ],
  "metadata": {
    "colab": {
      "collapsed_sections": [],
      "name": "AI_Workshop_Day1.ipynb",
      "provenance": [],
      "authorship_tag": "ABX9TyMqr1B87v9c4Kwt9F+ScauW",
      "include_colab_link": true
    },
    "kernelspec": {
      "display_name": "Python 3",
      "name": "python3"
    },
    "language_info": {
      "name": "python"
    }
  },
  "nbformat": 4,
  "nbformat_minor": 0
}